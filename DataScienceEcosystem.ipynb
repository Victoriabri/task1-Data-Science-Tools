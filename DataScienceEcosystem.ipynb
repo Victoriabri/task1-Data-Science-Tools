{
 "cells": [
  {
   "cell_type": "markdown",
   "id": "5280d4e0-2f02-40fc-bdac-3f413ca82dfb",
   "metadata": {
    "editable": true,
    "slideshow": {
     "slide_type": ""
    },
    "tags": []
   },
   "source": [
    "# Data Science Tools and Ecosystem"
   ]
  },
  {
   "cell_type": "markdown",
   "id": "f3a47765-9e82-44ba-bafe-33341986f653",
   "metadata": {},
   "source": [
    "En este cuaderno, se resumen las herramientas y ecosistemas de ciencia de datos."
   ]
  },
  {
   "cell_type": "markdown",
   "id": "8109376d-a9b5-457c-82e3-40b1d8c6678c",
   "metadata": {},
   "source": [
    "### **Objetivos:**\n",
    "* Herramientas para la ciencia de datos\n",
    "* Programación para científicos de datos\n",
    "* Matemáticas para cietíficos de datos\n"
   ]
  },
  {
   "cell_type": "markdown",
   "id": "cc696dbc-b215-45f9-a0d5-33841d5b61bf",
   "metadata": {},
   "source": [
    "Algunos de los lenguajes populares que utilizan los científicos de datos son:\n",
    "1. Python\n",
    "2. R\n",
    "3. Julia"
   ]
  },
  {
   "cell_type": "markdown",
   "id": "80394748-1492-468b-b7b2-23d7b7ee9fb0",
   "metadata": {},
   "source": [
    "Algunas de las bibliotecas comúnmente utilizadas por los científicos de datos incluyen:\n",
    "1. Tensor-Flow\n",
    "2. Sci-kit learning\n",
    "3. Pandas"
   ]
  },
  {
   "cell_type": "markdown",
   "id": "3174685d-a101-4d8b-bdc9-283585916cac",
   "metadata": {},
   "source": [
    "Tabla 1\n",
    "| Herramientas de Ciencia de Datos | \n",
    "| --- | \n",
    "| Tableau | \n",
    "| PowerBi | \n",
    "| Anaconda | "
   ]
  },
  {
   "cell_type": "markdown",
   "id": "2a4fad22-8b5d-47a3-ab57-33dd2eddf2bc",
   "metadata": {},
   "source": [
    "### A continuación se presentan algunos ejemplos de evaluación de expresiones aritméticas en Python"
   ]
  },
  {
   "cell_type": "code",
   "execution_count": 43,
   "id": "e14adb8c-f138-4dce-8cc4-2ccf649a21db",
   "metadata": {},
   "outputs": [
    {
     "data": {
      "text/plain": [
       "17"
      ]
     },
     "execution_count": 43,
     "metadata": {},
     "output_type": "execute_result"
    }
   ],
   "source": [
    "# Esta es una expresión aritmética simple para multiplicar y luego sumar enteros.\n",
    "(3*4)+5"
   ]
  },
  {
   "cell_type": "code",
   "execution_count": 45,
   "id": "bf8da2a6-4f6b-45c8-9b16-98352488b7e4",
   "metadata": {},
   "outputs": [
    {
     "data": {
      "text/plain": [
       "3.3333333333333335"
      ]
     },
     "execution_count": 45,
     "metadata": {},
     "output_type": "execute_result"
    }
   ],
   "source": [
    "# Esto convertirá 200 minutos a horas dividiendo por 60\n",
    "200/60"
   ]
  },
  {
   "cell_type": "markdown",
   "id": "5de7a935-0d23-45d6-80dd-44d421b3c32d",
   "metadata": {},
   "source": [
    "## Autor\n",
    "Nacira Victoria Lila Brizuela Muñoz"
   ]
  }
 ],
 "metadata": {
  "kernelspec": {
   "display_name": "Python 3 (ipykernel)",
   "language": "python",
   "name": "python3"
  },
  "language_info": {
   "codemirror_mode": {
    "name": "ipython",
    "version": 3
   },
   "file_extension": ".py",
   "mimetype": "text/x-python",
   "name": "python",
   "nbconvert_exporter": "python",
   "pygments_lexer": "ipython3",
   "version": "3.12.7"
  }
 },
 "nbformat": 4,
 "nbformat_minor": 5
}
